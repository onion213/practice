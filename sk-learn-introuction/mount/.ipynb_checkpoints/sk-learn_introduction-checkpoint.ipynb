{
 "cells": [
  {
   "cell_type": "markdown",
   "id": "timely-cancer",
   "metadata": {},
   "source": [
    "# scikit-learn 入門\n",
    "\n",
    "参照URL: https://tutorials.chainer.org/ja/09_Introduction_to_Scikit-learn.html"
   ]
  },
  {
   "cell_type": "markdown",
   "id": "surgical-mixer",
   "metadata": {},
   "source": [
    "## 基本的なステップ\n",
    "1. データセットの準備\n",
    "1. モデルを決める\n",
    "1. 目的関数を決める\n",
    "1. 最適化手法を選択する\n",
    "1. モデルを訓練する"
   ]
  },
  {
   "cell_type": "markdown",
   "id": "realistic-singapore",
   "metadata": {},
   "source": [
    "## 1 sckit-learn を用いた重回帰分析"
   ]
  },
  {
   "cell_type": "markdown",
   "id": "agreed-living",
   "metadata": {},
   "source": [
    "### Step 1 : データセットの準備"
   ]
  },
  {
   "cell_type": "code",
   "execution_count": 2,
   "id": "express-saturn",
   "metadata": {},
   "outputs": [],
   "source": [
    "from sklearn.datasets import load_boston\n",
    "\n",
    "dataset = load_boston()"
   ]
  },
  {
   "cell_type": "code",
   "execution_count": 6,
   "id": "hindu-republican",
   "metadata": {},
   "outputs": [],
   "source": [
    "x = dataset.data\n",
    "t = dataset.target"
   ]
  },
  {
   "cell_type": "code",
   "execution_count": 7,
   "id": "hearing-blank",
   "metadata": {},
   "outputs": [
    {
     "data": {
      "text/plain": [
       "(506, 13)"
      ]
     },
     "execution_count": 7,
     "metadata": {},
     "output_type": "execute_result"
    }
   ],
   "source": [
    "x.shape"
   ]
  },
  {
   "cell_type": "code",
   "execution_count": 8,
   "id": "continental-details",
   "metadata": {},
   "outputs": [
    {
     "data": {
      "text/plain": [
       "(506,)"
      ]
     },
     "execution_count": 8,
     "metadata": {},
     "output_type": "execute_result"
    }
   ],
   "source": [
    "t.shape"
   ]
  },
  {
   "cell_type": "markdown",
   "id": "green-replica",
   "metadata": {},
   "source": [
    "### データセットの分割"
   ]
  },
  {
   "cell_type": "code",
   "execution_count": 11,
   "id": "intimate-mercury",
   "metadata": {},
   "outputs": [],
   "source": [
    "from sklearn.model_selection import train_test_split\n",
    "\n",
    "x_train, x_test, t_train, t_test = train_test_split(x, t, test_size = 0.3, random_state = 0)\n",
    "\n",
    "# test_size = 0.3 : データ全体の3割をテストに, 7割を訓練に使用\n",
    "# random_state = 0 : seed値と同じ?"
   ]
  },
  {
   "cell_type": "markdown",
   "id": "overall-murder",
   "metadata": {},
   "source": [
    "### モデル・目的関数・最適化手法を決める"
   ]
  },
  {
   "cell_type": "code",
   "execution_count": 15,
   "id": "aging-charger",
   "metadata": {},
   "outputs": [],
   "source": [
    "from sklearn.linear_model import LinearRegression\n",
    "\n",
    "reg_model = LinearRegression()"
   ]
  },
  {
   "cell_type": "markdown",
   "id": "caring-approval",
   "metadata": {},
   "source": [
    "### モデルの訓練"
   ]
  },
  {
   "cell_type": "code",
   "execution_count": 17,
   "id": "common-simulation",
   "metadata": {},
   "outputs": [
    {
     "data": {
      "text/plain": [
       "LinearRegression()"
      ]
     },
     "execution_count": 17,
     "metadata": {},
     "output_type": "execute_result"
    }
   ],
   "source": [
    "reg_model.fit(x_train, t_train)"
   ]
  },
  {
   "cell_type": "code",
   "execution_count": 18,
   "id": "upset-expert",
   "metadata": {},
   "outputs": [
    {
     "data": {
      "text/plain": [
       "array([-1.21310401e-01,  4.44664254e-02,  1.13416945e-02,  2.51124642e+00,\n",
       "       -1.62312529e+01,  3.85906801e+00, -9.98516565e-03, -1.50026956e+00,\n",
       "        2.42143466e-01, -1.10716124e-02, -1.01775264e+00,  6.81446545e-03,\n",
       "       -4.86738066e-01])"
      ]
     },
     "execution_count": 18,
     "metadata": {},
     "output_type": "execute_result"
    }
   ],
   "source": [
    "reg_model.coef_"
   ]
  },
  {
   "cell_type": "code",
   "execution_count": 19,
   "id": "described-constant",
   "metadata": {},
   "outputs": [
    {
     "data": {
      "text/plain": [
       "37.937107741833074"
      ]
     },
     "execution_count": 19,
     "metadata": {},
     "output_type": "execute_result"
    }
   ],
   "source": [
    "reg_model.intercept_"
   ]
  },
  {
   "cell_type": "code",
   "execution_count": 20,
   "id": "located-block",
   "metadata": {},
   "outputs": [
    {
     "data": {
      "text/plain": [
       "0.7645451026942549"
      ]
     },
     "execution_count": 20,
     "metadata": {},
     "output_type": "execute_result"
    }
   ],
   "source": [
    "reg_model.score(x_train, t_train)"
   ]
  },
  {
   "cell_type": "markdown",
   "id": "satellite-snapshot",
   "metadata": {},
   "source": [
    "### 推論してみる"
   ]
  },
  {
   "cell_type": "code",
   "execution_count": 22,
   "id": "mental-kenya",
   "metadata": {},
   "outputs": [
    {
     "data": {
      "text/plain": [
       "array([24.9357079])"
      ]
     },
     "execution_count": 22,
     "metadata": {},
     "output_type": "execute_result"
    }
   ],
   "source": [
    "reg_model.predict(x_test[:1])"
   ]
  },
  {
   "cell_type": "code",
   "execution_count": 24,
   "id": "stretch-leave",
   "metadata": {},
   "outputs": [
    {
     "data": {
      "text/plain": [
       "22.6"
      ]
     },
     "execution_count": 24,
     "metadata": {},
     "output_type": "execute_result"
    }
   ],
   "source": [
    "t_test[0]"
   ]
  },
  {
   "cell_type": "markdown",
   "id": "breeding-laser",
   "metadata": {},
   "source": [
    "### テストデータを用いた評価"
   ]
  },
  {
   "cell_type": "code",
   "execution_count": 25,
   "id": "purple-wrong",
   "metadata": {},
   "outputs": [
    {
     "data": {
      "text/plain": [
       "0.6733825506400177"
      ]
     },
     "execution_count": 25,
     "metadata": {},
     "output_type": "execute_result"
    }
   ],
   "source": [
    "reg_model.score(x_test, t_test)"
   ]
  },
  {
   "cell_type": "markdown",
   "id": "prospective-universal",
   "metadata": {},
   "source": [
    "## 各ステップの改善"
   ]
  },
  {
   "cell_type": "markdown",
   "id": "rough-fusion",
   "metadata": {},
   "source": [
    "### データセットの準備の改善 : 前処理"
   ]
  },
  {
   "cell_type": "code",
   "execution_count": 45,
   "id": "knowing-pasta",
   "metadata": {},
   "outputs": [],
   "source": [
    "# 標準化してみる\n",
    "from sklearn.preprocessing import StandardScaler\n",
    "\n",
    "scaler = StandardScaler()"
   ]
  },
  {
   "cell_type": "code",
   "execution_count": 27,
   "id": "diagnostic-richmond",
   "metadata": {},
   "outputs": [
    {
     "data": {
      "text/plain": [
       "StandardScaler()"
      ]
     },
     "execution_count": 27,
     "metadata": {},
     "output_type": "execute_result"
    }
   ],
   "source": [
    "scaler.fit(x_train)"
   ]
  },
  {
   "cell_type": "code",
   "execution_count": 28,
   "id": "conservative-carol",
   "metadata": {},
   "outputs": [
    {
     "data": {
      "text/plain": [
       "array([3.35828432e+00, 1.18093220e+01, 1.10787571e+01, 6.49717514e-02,\n",
       "       5.56098305e-01, 6.30842655e+00, 6.89940678e+01, 3.76245876e+00,\n",
       "       9.35310734e+00, 4.01782486e+02, 1.84734463e+01, 3.60601186e+02,\n",
       "       1.24406497e+01])"
      ]
     },
     "execution_count": 28,
     "metadata": {},
     "output_type": "execute_result"
    }
   ],
   "source": [
    "scaler.mean_"
   ]
  },
  {
   "cell_type": "code",
   "execution_count": 29,
   "id": "substantial-nelson",
   "metadata": {},
   "outputs": [
    {
     "data": {
      "text/plain": [
       "array([6.95792305e+01, 5.57886665e+02, 4.87753572e+01, 6.07504229e-02,\n",
       "       1.33257561e-02, 4.91423928e-01, 7.83932705e+02, 4.26314655e+00,\n",
       "       7.49911344e+01, 2.90195600e+04, 4.93579208e+00, 7.31040807e+03,\n",
       "       4.99634123e+01])"
      ]
     },
     "execution_count": 29,
     "metadata": {},
     "output_type": "execute_result"
    }
   ],
   "source": [
    "scaler.var_"
   ]
  },
  {
   "cell_type": "code",
   "execution_count": 30,
   "id": "generic-james",
   "metadata": {},
   "outputs": [],
   "source": [
    "x_train_scaled = scaler.transform(x_train)\n",
    "x_test_scaled = scaler.transform(x_test)"
   ]
  },
  {
   "cell_type": "code",
   "execution_count": 31,
   "id": "exotic-entrepreneur",
   "metadata": {},
   "outputs": [
    {
     "data": {
      "text/plain": [
       "LinearRegression()"
      ]
     },
     "execution_count": 31,
     "metadata": {},
     "output_type": "execute_result"
    }
   ],
   "source": [
    "reg_model = LinearRegression()\n",
    "\n",
    "reg_model.fit(x_train_scaled, t_train)"
   ]
  },
  {
   "cell_type": "code",
   "execution_count": 32,
   "id": "strategic-static",
   "metadata": {},
   "outputs": [
    {
     "data": {
      "text/plain": [
       "0.7645451026942549"
      ]
     },
     "execution_count": 32,
     "metadata": {},
     "output_type": "execute_result"
    }
   ],
   "source": [
    "reg_model.score(x_train_scaled, t_train)"
   ]
  },
  {
   "cell_type": "code",
   "execution_count": 33,
   "id": "primary-rider",
   "metadata": {},
   "outputs": [
    {
     "data": {
      "text/plain": [
       "0.6733825506400195"
      ]
     },
     "execution_count": 33,
     "metadata": {},
     "output_type": "execute_result"
    }
   ],
   "source": [
    "reg_model.score(x_test_scaled, t_test)"
   ]
  },
  {
   "cell_type": "code",
   "execution_count": 46,
   "id": "handed-sweet",
   "metadata": {},
   "outputs": [
    {
     "name": "stderr",
     "output_type": "stream",
     "text": [
      "/opt/conda/lib/python3.8/site-packages/sklearn/preprocessing/_data.py:3237: RuntimeWarning: divide by zero encountered in log\n",
      "  loglike = -n_samples / 2 * np.log(x_trans.var())\n"
     ]
    },
    {
     "data": {
      "text/plain": [
       "LinearRegression()"
      ]
     },
     "execution_count": 46,
     "metadata": {},
     "output_type": "execute_result"
    }
   ],
   "source": [
    "# 冪変換してみる\n",
    "from sklearn.preprocessing import PowerTransformer\n",
    "\n",
    "scaler = PowerTransformer()\n",
    "scaler.fit(x_train)\n",
    "\n",
    "x_train_scaled = scaler.transform(x_train)\n",
    "x_test_scaled = scaler.transform(x_test)\n",
    "\n",
    "reg_model = LinearRegression()\n",
    "reg_model.fit(x_train_scaled, t_train)"
   ]
  },
  {
   "cell_type": "code",
   "execution_count": 43,
   "id": "periodic-woman",
   "metadata": {},
   "outputs": [
    {
     "data": {
      "text/plain": [
       "0.7859862563286062"
      ]
     },
     "execution_count": 43,
     "metadata": {},
     "output_type": "execute_result"
    }
   ],
   "source": [
    "reg_model.score(x_train_scaled, t_train)"
   ]
  },
  {
   "cell_type": "code",
   "execution_count": 44,
   "id": "duplicate-snake",
   "metadata": {},
   "outputs": [
    {
     "data": {
      "text/plain": [
       "0.7002856551689581"
      ]
     },
     "execution_count": 44,
     "metadata": {},
     "output_type": "execute_result"
    }
   ],
   "source": [
    "reg_model.score(x_test_scaled, t_test)"
   ]
  },
  {
   "cell_type": "markdown",
   "id": "tested-centre",
   "metadata": {},
   "source": [
    "### パイプライン化"
   ]
  },
  {
   "cell_type": "code",
   "execution_count": null,
   "id": "derived-plane",
   "metadata": {},
   "outputs": [],
   "source": []
  }
 ],
 "metadata": {
  "kernelspec": {
   "display_name": "Python 3",
   "language": "python",
   "name": "python3"
  },
  "language_info": {
   "codemirror_mode": {
    "name": "ipython",
    "version": 3
   },
   "file_extension": ".py",
   "mimetype": "text/x-python",
   "name": "python",
   "nbconvert_exporter": "python",
   "pygments_lexer": "ipython3",
   "version": "3.8.6"
  }
 },
 "nbformat": 4,
 "nbformat_minor": 5
}
